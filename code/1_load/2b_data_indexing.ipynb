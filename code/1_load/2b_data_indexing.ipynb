{
 "cells": [
  {
   "cell_type": "code",
   "execution_count": 2,
   "id": "63b6e386-0084-4171-ae23-04d2ec3d6c07",
   "metadata": {
    "pycharm": {
     "is_executing": true,
     "name": "#%%\n"
    }
   },
   "outputs": [],
   "source": [
    "import os  # For interacting with the file system\n",
    "from elasticsearch import helpers, Elasticsearch\n",
    "import csv\n",
    "import pandas as pd"
   ]
  },
  {
   "cell_type": "code",
   "execution_count": 4,
   "id": "a3ae3410-035f-4c1d-8901-645850adc3e2",
   "metadata": {
    "pycharm": {
     "name": "#%%\n"
    }
   },
   "outputs": [
    {
     "name": "stdout",
     "output_type": "stream",
     "text": [
      "{'name': 'MSI', 'cluster_name': 'elasticsearch', 'cluster_uuid': 'ylmZI0lnRpa-pP1lwEKJ7A', 'version': {'number': '8.15.2', 'build_flavor': 'default', 'build_type': 'zip', 'build_hash': '98adf7bf6bb69b66ab95b761c9e5aadb0bb059a3', 'build_date': '2024-09-19T10:06:03.564235954Z', 'build_snapshot': False, 'lucene_version': '9.11.1', 'minimum_wire_compatibility_version': '7.17.0', 'minimum_index_compatibility_version': '7.0.0'}, 'tagline': 'You Know, for Search'}\n",
      "Connected to Elasticsearch\n"
     ]
    }
   ],
   "source": [
    "# Retrieve authentication information for Elasticsearch\n",
    "elastic_host = \"https://localhost\"\n",
    "elastic_port = \"9200\"\n",
    "elastic_user = \"admin\"\n",
    "elastic_password = \"motdepasse\"\n",
    "elastic_ca_path = \"C:\\\\elasticsearch-8.15.2\\\\config\\\\certs\\\\http_ca.crt\"\n",
    "\n",
    "# Connect to Elasticsearch\n",
    "es = Elasticsearch(\n",
    "    hosts=[f\"{elastic_host}:{elastic_port}\"],\n",
    "    basic_auth=(elastic_user, elastic_password),\n",
    "    ca_certs=elastic_ca_path,\n",
    "    verify_certs=True\n",
    ")\n",
    "print(es.info())\n",
    "\n",
    "# Check connection\n",
    "if es.ping():\n",
    "    print(\"Connected to Elasticsearch\")\n",
    "else:\n",
    "    print(\"Failed to connect to Elasticsearch\")"
   ]
  },
  {
   "cell_type": "code",
   "execution_count": null,
   "metadata": {
    "collapsed": false,
    "pycharm": {
     "name": "#%%\n"
    }
   },
   "outputs": [],
   "source": [
    "index_name = \"network_flows_fan_encoded_final\"\n",
    "csv_file_name = \"csv_files/final_features_flows.csv\""
   ]
  },
  {
   "cell_type": "code",
   "execution_count": null,
   "id": "08e419da",
   "metadata": {},
   "outputs": [],
   "source": [
    "# retrieve the df from the csv\n",
    "df = pd.read_csv(csv_file_name)\n",
    "\n",
    "# Removing the encoded original cols\n",
    "df = df.drop(columns=['bidirectional_first_seen_ms', 'bidirectional_last_seen_ms','src_port','dst_port','src_ip','dst_ip'])"
   ]
  },
  {
   "cell_type": "code",
   "execution_count": null,
   "metadata": {
    "collapsed": false,
    "pycharm": {
     "name": "#%%\n"
    }
   },
   "outputs": [],
   "source": [
    "if es.indices.exists(index=index_name):\n",
    "    es.indices.delete(index=index_name)\n",
    "    print(f\"Index {index_name} deleted.\")\n",
    "es.indices.create(index=index_name)\n",
    "print(f\"Index {index_name} created with specified mapping.\")"
   ]
  },
  {
   "cell_type": "code",
   "execution_count": null,
   "metadata": {
    "collapsed": false,
    "pycharm": {
     "name": "#%%\n"
    }
   },
   "outputs": [],
   "source": [
    "# Prepare data for indexing in ES\n",
    "actions = [\n",
    "    {\n",
    "        \"_index\": target_index,\n",
    "        \"_source\": row.to_dict()\n",
    "    }\n",
    "    for _, row in df.iterrows()\n",
    "]\n",
    "\n",
    "# Indexing with batch in ES\n",
    "batch_size = 50\n",
    "for i in range(0, len(actions), batch_size):\n",
    "    helpers.bulk(es, actions[i:i + batch_size])\n",
    "\n",
    "print(f\"Indexing in '{target_index}' finished.\")"
   ]
  }
 ],
 "metadata": {
  "kernelspec": {
   "display_name": "Python 3 (ipykernel)",
   "language": "python",
   "name": "python3"
  },
  "language_info": {
   "codemirror_mode": {
    "name": "ipython",
    "version": 3
   },
   "file_extension": ".py",
   "mimetype": "text/x-python",
   "name": "python",
   "nbconvert_exporter": "python",
   "pygments_lexer": "ipython3",
   "version": "3.11.6"
  }
 },
 "nbformat": 4,
 "nbformat_minor": 5
}
